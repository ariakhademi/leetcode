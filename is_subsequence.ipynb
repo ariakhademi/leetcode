{
 "cells": [
  {
   "cell_type": "code",
   "execution_count": null,
   "metadata": {},
   "outputs": [],
   "source": [
    "def isSubsequence(self, s, t):\n",
    "        \"\"\"\n",
    "        :type s: str\n",
    "        :type t: str\n",
    "        :rtype: bool\n",
    "        \"\"\"\n",
    "        if not s:\n",
    "            return True\n",
    "            \n",
    "        i = 0\n",
    "        for char in t:\n",
    "            if i < len(s) and s[i] == char:\n",
    "                i += 1\n",
    "        \n",
    "        if i == len(s): return True\n",
    "        else: return False"
   ]
  }
 ],
 "metadata": {
  "language_info": {
   "name": "python"
  }
 },
 "nbformat": 4,
 "nbformat_minor": 2
}
